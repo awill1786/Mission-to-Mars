{
 "cells": [
  {
   "cell_type": "code",
   "execution_count": 1,
   "id": "6bcc9635",
   "metadata": {},
   "outputs": [],
   "source": [
    "from splinter import Browser\n",
    "from bs4 import BeautifulSoup as soup\n",
    "from webdriver_manager.chrome import ChromeDriverManager\n"
   ]
  },
  {
   "cell_type": "code",
   "execution_count": 2,
   "id": "a335157c",
   "metadata": {},
   "outputs": [
    {
     "name": "stderr",
     "output_type": "stream",
     "text": [
      "[WDM] - Downloading: 100%|████████████████████████████████████████████████████████| 6.21M/6.21M [00:00<00:00, 7.13MB/s]\n"
     ]
    }
   ],
   "source": [
    "# Set up Splinter\n",
    "executable_path = {'executable_path': ChromeDriverManager().install()}\n",
    "browser = Browser('chrome', **executable_path, headless=False)"
   ]
  },
  {
   "cell_type": "code",
   "execution_count": 3,
   "id": "e729f6ed",
   "metadata": {},
   "outputs": [],
   "source": [
    "# Visit the Quotes to Scrape site\n",
    "\n",
    "url = 'http://quotes.toscrape.com/'\n",
    "\n",
    "browser.visit(url)"
   ]
  },
  {
   "cell_type": "code",
   "execution_count": 4,
   "id": "a74dfe8a",
   "metadata": {},
   "outputs": [],
   "source": [
    "# Parse the HTML\n",
    "\n",
    "html = browser.html\n",
    "\n",
    "html_soup = soup(html, 'html.parser')"
   ]
  },
  {
   "cell_type": "code",
   "execution_count": 5,
   "id": "499a7f04",
   "metadata": {},
   "outputs": [
    {
     "data": {
      "text/plain": [
       "'Top Ten tags'"
      ]
     },
     "execution_count": 5,
     "metadata": {},
     "output_type": "execute_result"
    }
   ],
   "source": [
    "# Scrape the Title\n",
    "\n",
    "title = html_soup.find('h2').text\n",
    "\n",
    "title"
   ]
  },
  {
   "cell_type": "code",
   "execution_count": 6,
   "id": "e16233bc",
   "metadata": {},
   "outputs": [
    {
     "name": "stdout",
     "output_type": "stream",
     "text": [
      "love\n",
      "inspirational\n",
      "life\n",
      "humor\n",
      "books\n",
      "reading\n",
      "friendship\n",
      "friends\n",
      "truth\n",
      "simile\n"
     ]
    }
   ],
   "source": [
    "# Scrape the top ten tags\n",
    "\n",
    "tag_box = html_soup.find('div', class_='tags-box')\n",
    "\n",
    "# tag_box\n",
    "\n",
    "tags = tag_box.find_all('a', class_='tag')\n",
    "\n",
    "for tag in tags:\n",
    "    \n",
    "    word = tag.text\n",
    "    \n",
    "    print(word)\n"
   ]
  },
  {
   "cell_type": "code",
   "execution_count": 7,
   "id": "cb3c4f5c",
   "metadata": {},
   "outputs": [],
   "source": [
    "url = 'http://quotes.toscrape.com/'\n",
    "\n",
    "browser.visit(url)"
   ]
  },
  {
   "cell_type": "code",
   "execution_count": 8,
   "id": "6fde71ea",
   "metadata": {},
   "outputs": [],
   "source": [
    "for x in range(1, 6):\n",
    "    \n",
    "    html = browser.html\n",
    "    \n",
    "    quote_soup = soup('html.parser')\n",
    "    \n",
    "    quotes = quote_soup.find_all('span', class_='text')\n",
    "    \n",
    "    for quote in quotes:\n",
    "        \n",
    "        print('page:', x, '----------')\n",
    "        \n",
    "        print(quote.text)\n",
    "        \n",
    "    browser.links.find_by_partial_text('Next').click()"
   ]
  },
  {
   "cell_type": "code",
   "execution_count": 9,
   "id": "c34c2438",
   "metadata": {},
   "outputs": [],
   "source": [
    "url = 'http://books.toscrape.com'\n",
    "\n",
    "browser.visit(url)"
   ]
  },
  {
   "cell_type": "code",
   "execution_count": 10,
   "id": "bb90d923",
   "metadata": {},
   "outputs": [],
   "source": [
    "# Parse the HTML\n",
    "\n",
    "html = browser.html\n",
    "\n",
    "html_soup = soup(html, 'html.parser')"
   ]
  },
  {
   "cell_type": "code",
   "execution_count": 15,
   "id": "f0ce853a",
   "metadata": {},
   "outputs": [
    {
     "name": "stdout",
     "output_type": "stream",
     "text": [
      "\n",
      "A Light in the ...\n",
      "\n",
      "Tipping the Velvet\n",
      "\n",
      "Soumission\n",
      "\n",
      "Sharp Objects\n",
      "\n",
      "Sapiens: A Brief History ...\n",
      "\n",
      "The Requiem Red\n",
      "\n",
      "The Dirty Little Secrets ...\n",
      "\n",
      "The Coming Woman: A ...\n",
      "\n",
      "The Boys in the ...\n",
      "\n",
      "The Black Maria\n",
      "\n",
      "Starving Hearts (Triangular Trade ...\n",
      "\n",
      "Shakespeare's Sonnets\n",
      "\n",
      "Set Me Free\n",
      "\n",
      "Scott Pilgrim's Precious Little ...\n",
      "\n",
      "Rip it Up and ...\n",
      "\n",
      "Our Band Could Be ...\n",
      "\n",
      "Olio\n",
      "\n",
      "Mesaerion: The Best Science ...\n",
      "\n",
      "Libertarianism for Beginners\n",
      "\n",
      "It's Only the Himalayas\n"
     ]
    }
   ],
   "source": [
    "book_url = html_soup.find('ol', class_='row')\n",
    "\n",
    "tags = book_url.find_all('a')\n",
    "for tag in tags:\n",
    "    \n",
    "    word = tag.text\n",
    "    \n",
    "    print(word)"
   ]
  },
  {
   "cell_type": "code",
   "execution_count": null,
   "id": "7290f4b8",
   "metadata": {},
   "outputs": [],
   "source": []
  }
 ],
 "metadata": {
  "kernelspec": {
   "display_name": "PythonData",
   "language": "python",
   "name": "pythondata"
  },
  "language_info": {
   "codemirror_mode": {
    "name": "ipython",
    "version": 3
   },
   "file_extension": ".py",
   "mimetype": "text/x-python",
   "name": "python",
   "nbconvert_exporter": "python",
   "pygments_lexer": "ipython3",
   "version": "3.7.13"
  }
 },
 "nbformat": 4,
 "nbformat_minor": 5
}
